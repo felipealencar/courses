{
  "nbformat": 4,
  "nbformat_minor": 0,
  "metadata": {
    "colab": {
      "name": "exemplo-kmeans.ipynb",
      "provenance": [],
      "authorship_tag": "ABX9TyNhRO1Yy5CxAc/ipV8MJ7S+",
      "include_colab_link": true
    },
    "kernelspec": {
      "name": "python3",
      "display_name": "Python 3"
    },
    "language_info": {
      "name": "python"
    }
  },
  "cells": [
    {
      "cell_type": "markdown",
      "metadata": {
        "id": "view-in-github",
        "colab_type": "text"
      },
      "source": [
        "<a href=\"https://colab.research.google.com/github/felipealencar/courses/blob/artificial-intelligence/artificial-intelligence/lec-09/exemplo_kmeans.ipynb\" target=\"_parent\"><img src=\"https://colab.research.google.com/assets/colab-badge.svg\" alt=\"Open In Colab\"/></a>"
      ]
    },
    {
      "cell_type": "markdown",
      "source": [
        "# Contexto\n",
        "A rede de lojas Bruno tem 19 lojas em algumas das principais cidades do país. A empresa pensa em construir 3 centros logísticos para abastecer as lojas. Mas, qual seria a posição ótima para cada um desses três hubs, considerando apenas a posição (coordenadas geográficas) das lojas?"
      ],
      "metadata": {
        "id": "Nn5rRJx8ACc5"
      }
    },
    {
      "cell_type": "markdown",
      "source": [
        "Abaixo, vamos plotar o gráfico a representação em coordenadas de cada uma das 19 cidades onde a rede possui filiais:"
      ],
      "metadata": {
        "id": "k2nOI51PAJcL"
      }
    },
    {
      "cell_type": "code",
      "execution_count": 6,
      "metadata": {
        "colab": {
          "base_uri": "https://localhost:8080/",
          "height": 269
        },
        "id": "lTA00qmn_-oz",
        "outputId": "53a23bc1-a3c8-4401-a3cd-91cd42bb8c70"
      },
      "outputs": [
        {
          "output_type": "display_data",
          "data": {
            "text/plain": [
              "<Figure size 432x288 with 1 Axes>"
            ],
            "image/png": "[encoded data removed]"
          },
          "metadata": {
            "needs_background": "light"
          }
        }
      ],
      "source": [
        "from sklearn.cluster import KMeans\n",
        "import matplotlib.pyplot as plt\n",
        "import numpy as np\n",
        "\n",
        "dataset = np.array(\n",
        "  #matriz com as coordenadas geográficas de cada loja\n",
        "  [[-25, -46], #são paulo\n",
        "  [-22, -43], #rio de janeiro\n",
        "  [-25, -49], #curitiba\n",
        "  [-30, -51], #porto alegre\n",
        "  [-19, -43], #belo horizonte\n",
        "  [-15, -47], #brasilia\n",
        "  [-12, -38], #salvador\n",
        "  [-8, -34], #recife\n",
        "  [-16, -49], #goiania\n",
        "  [-3, -60], #manaus\n",
        "  [-22, -47], #campinas\n",
        "  [-3, -38], #fortaleza\n",
        "  [-21, -47], #ribeirão preto\n",
        "  [-23, -51], #maringa\n",
        "  [-27, -48], #florianópolis\n",
        "  [-21, -43], #juiz de fora\n",
        "  [-1, -48], #belém\n",
        "  [-10, -67], #rio branco\n",
        "  [-8, -63]]#porto velho\n",
        ")\n",
        "plt.scatter(dataset[:,1], dataset[:,0]) #posicionamento dos eixos x e y\n",
        "plt.xlim(-75, -30) #range do eixo x\n",
        "plt.ylim(-50, 10) #range do eixo y\n",
        "plt.grid() #função que desenha a grade no nosso gráfico"
      ]
    },
    {
      "cell_type": "markdown",
      "source": [
        "O ponto mais ao sul no gráfico representa Porto Alegre, o ponto mais à Oeste representa Rio Branco, o ponto mais à leste representa Recife e o ponto mais ao norte representa Belém."
      ],
      "metadata": {
        "id": "hjnHi9t5AR97"
      }
    },
    {
      "cell_type": "markdown",
      "source": [
        "Vamos utilizar o algoritmo `KMeans`, do pacote `Scikit-Learn` para agrupar (clusterisar) as nossas filiais em 3 grupos. Cada grupo será servido por um centro logístico, que será representado por um centróide (os pontos em vermelho no gráfico)."
      ],
      "metadata": {
        "id": "3YIhqOtIAVpi"
      }
    },
    {
      "cell_type": "code",
      "source": [
        "kmeans = KMeans(n_clusters = 3, #numero de clusters\n",
        "init = 'k-means++', n_init = 10, #algoritmo que define a posição dos clusters de maneira mais assertiva\n",
        "max_iter = 300) #numero máximo de iterações\n",
        "pred_y = kmeans.fit_predict(dataset)\n",
        "plt.scatter(dataset[:,1], dataset[:,0], c = pred_y) #posicionamento dos eixos x e y\n",
        "plt.xlim(-75, -30) #range do eixo x\n",
        "plt.ylim(-50, 10) #range do eixo y\n",
        "plt.grid() #função que desenha a grade no nosso gráfico\n",
        "plt.scatter(kmeans.cluster_centers_[:,1],kmeans.cluster_centers_[:,0], s = 70, c = 'red') #posição de cada centroide no gráfico\n",
        "plt.show()"
      ],
      "metadata": {
        "colab": {
          "base_uri": "https://localhost:8080/",
          "height": 269
        },
        "id": "DgjEQGtbAaox",
        "outputId": "b740887d-a86e-41fb-c336-6fadebc8e3ee"
      },
      "execution_count": 7,
      "outputs": [
        {
          "output_type": "display_data",
          "data": {
            "text/plain": [
              "<Figure size 432x288 with 1 Axes>"
            ],
            "image/png": "[encoded data removed]"
          },
          "metadata": {
            "needs_background": "light"
          }
        }
      ]
    },
    {
      "cell_type": "markdown",
      "source": [
        "Nossa clusterização apontou três posições para os nossos centros logísticos. Vamos ver onde, aproximadamende, eles ficariam?"
      ],
      "metadata": {
        "id": "I31Fto_hAfnk"
      }
    },
    {
      "cell_type": "markdown",
      "source": [
        "\n",
        "\n",
        "*   [-7, -63.33333333] — Humaitá/AM\n",
        "*   [-6, -39.5] — Acopiara/CE\n",
        "*   [-22.16666667, -47] — Mogi Guaçu/SP"
      ],
      "metadata": {
        "id": "hf0MNBjjAiPU"
      }
    },
    {
      "cell_type": "markdown",
      "source": [
        "### Melhorando um pouco o exemplo\n",
        "\n",
        "Neste segundo cenário, vamos considerar que em algumas das maiores cidades nós temos mais que uma loja.\n",
        "\n",
        "Só em São Paulo, agora temos 21 lojas. No total, nossa rede teria 86 lojas."
      ],
      "metadata": {
        "id": "tkjxZfuaAtOA"
      }
    },
    {
      "cell_type": "code",
      "source": [
        "novo_dataset = np.array(\n",
        "#matriz com as coordenadas geográficas de cada loja\n",
        "[\n",
        "[-25, -46], #são paulo\n",
        "[-25, -46], #são paulo\n",
        "[-25, -46], #são paulo\n",
        "[-25, -46], #são paulo\n",
        "[-25, -46], #são paulo\n",
        "[-25, -46], #são paulo\n",
        "[-25, -46], #são paulo\n",
        "[-25, -46], #são paulo\n",
        "[-25, -46], #são paulo\n",
        "[-25, -46], #são paulo\n",
        "[-25, -46], #são paulo\n",
        "[-25, -46], #são paulo\n",
        "[-25, -46], #são paulo\n",
        "[-25, -46], #são paulo\n",
        "[-25, -46], #são paulo\n",
        "[-25, -46], #são paulo\n",
        "[-25, -46], #são paulo\n",
        "[-25, -46], #são paulo\n",
        "[-25, -46], #são paulo\n",
        "[-25, -46], #são paulo\n",
        "[-25, -46], #são paulo\n",
        "[-22, -43], #rio de janeiro\n",
        "[-22, -43], #rio de janeiro\n",
        "[-22, -43], #rio de janeiro\n",
        "[-22, -43], #rio de janeiro\n",
        "[-22, -43], #rio de janeiro\n",
        "[-22, -43], #rio de janeiro\n",
        "[-22, -43], #rio de janeiro\n",
        "[-22, -43], #rio de janeiro\n",
        "[-22, -43], #rio de janeiro\n",
        "[-22, -43], #rio de janeiro\n",
        "[-22, -43], #rio de janeiro\n",
        "[-22, -43], #rio de janeiro\n",
        "[-25, -49], #curitiba\n",
        "[-25, -49], #curitiba\n",
        "[-25, -49], #curitiba\n",
        "[-25, -49], #curitiba\n",
        "[-25, -49], #curitiba\n",
        "[-25, -49], #curitiba\n",
        "[-30, -51], #porto alegre\n",
        "[-30, -51], #porto alegre\n",
        "[-30, -51], #porto alegre\n",
        "[-19, -43], #belo horizonte\n",
        "[-19, -43], #belo horizonte\n",
        "[-19, -43], #belo horizonte\n",
        "[-19, -43], #belo horizonte\n",
        "[-19, -43], #belo horizonte\n",
        "[-19, -43], #belo horizonte\n",
        "[-19, -43], #belo horizonte\n",
        "[-19, -43], #belo horizonte\n",
        "[-15, -47], #brasilia\n",
        "[-15, -47], #brasilia\n",
        "[-15, -47], #brasilia\n",
        "[-15, -47], #brasilia\n",
        "[-15, -47], #brasilia\n",
        "[-15, -47], #brasilia\n",
        "[-12, -38], #salvador\n",
        "[-12, -38], #salvador\n",
        "[-12, -38], #salvador\n",
        "[-8, -34], #recife\n",
        "[-8, -34], #recife\n",
        "[-8, -34], #recife\n",
        "[-16, -49], #goiania\n",
        "[-16, -49], #goiania\n",
        "[-3, -60], #manaus\n",
        "[-3, -60], #manaus\n",
        "[-3, -60], #manaus\n",
        "[-3, -60], #manaus\n",
        "[-22, -47], #campinas\n",
        "[-22, -47], #campinas\n",
        "[-3, -38], #fortaleza\n",
        "[-3, -38], #fortaleza\n",
        "[-3, -38], #fortaleza\n",
        "[-3, -38], #fortaleza\n",
        "[-3, -38], #fortaleza\n",
        "[-3, -38], #fortaleza\n",
        "[-21, -47], #ribeirão preto\n",
        "[-23, -51], #maringa\n",
        "[-27, -48], #florianópolis\n",
        "[-27, -48], #florianópolis\n",
        "[-21, -43], #juiz de fora\n",
        "[-1, -48], #belém\n",
        "[-1, -48], #belém\n",
        "[-1, -48], #belém\n",
        "[-1, -48], #belém\n",
        "[-10, -67], #rio branco\n",
        "[-8, -63] #porto velho\n",
        "]\n",
        ")\n",
        "plt.scatter(novo_dataset[:,1], novo_dataset[:,0]) #posicionamento dos eixos x e y\n",
        "plt.xlim(-75, -30) #range do eixo x\n",
        "plt.ylim(-50, 10) #range do eixo y\n",
        "plt.grid() #função que desenha a grade no nosso gráfico"
      ],
      "metadata": {
        "colab": {
          "base_uri": "https://localhost:8080/",
          "height": 269
        },
        "id": "T4TYvfpfA18e",
        "outputId": "06b3d41c-ad8f-48f5-cf59-143c4ddaae8a"
      },
      "execution_count": 8,
      "outputs": [
        {
          "output_type": "display_data",
          "data": {
            "text/plain": [
              "<Figure size 432x288 with 1 Axes>"
            ],
            "image/png": "[encoded data removed]"
          },
          "metadata": {
            "needs_background": "light"
          }
        }
      ]
    },
    {
      "cell_type": "code",
      "source": [
        "kmeans = KMeans(n_clusters = 3, #numero de clusters\n",
        "init = 'k-means++', n_init = 10, #algoritmo que define a posição dos clusters de maneira mais assertiva\n",
        "max_iter = 300) #numero máximo de iterações\n",
        "pred_y = kmeans.fit_predict(dataset)\n",
        "plt.scatter(novo_dataset[:,1], novo_dataset[:,0]) #posicionamento dos eixos x e y\n",
        "plt.xlim(-75, -30) #range do eixo x\n",
        "plt.ylim(-50, 10) #range do eixo y\n",
        "plt.grid() #função que desenha a grade no nosso gráfico\n",
        "plt.scatter(kmeans.cluster_centers_[:,1],kmeans.cluster_centers_[:,0], s = 70, c = 'red') #posição de cada centroide no gráfico\n",
        "plt.show()"
      ],
      "metadata": {
        "colab": {
          "base_uri": "https://localhost:8080/",
          "height": 269
        },
        "id": "97NHDk8DCax5",
        "outputId": "e7e98100-b755-4fa9-9526-a0c17a4825b4"
      },
      "execution_count": 9,
      "outputs": [
        {
          "output_type": "display_data",
          "data": {
            "text/plain": [
              "<Figure size 432x288 with 1 Axes>"
            ],
            "image/png": "[encoded data removed]"
          },
          "metadata": {
            "needs_background": "light"
          }
        }
      ]
    },
    {
      "cell_type": "markdown",
      "source": [
        "Agora, nossos centros logísticos ficariam nos seguintes locais:\n",
        "\n",
        "*    [-5, -61.66666667] — Beruri/AM\n",
        "*    [-5.125, -39.75] — Boa Viagem/CE\n",
        "*    [-22.55384615, -45.90769231] — Consolação/MG"
      ],
      "metadata": {
        "id": "HXEuAW-OA6jp"
      }
    },
    {
      "cell_type": "markdown",
      "source": [
        "### Dá pra ficar ainda melhor\n",
        "Aqui ainda ficou faltando tratar algumas situações, que pretendo abordar nos próximos posts, com por exemplo:\n",
        "\n",
        "* Como escolher o número de clusters (método elbow)\n",
        "* Como calcular a distância entre os dados: distância euclidiana\n",
        "* Qual é a condição de parada ideal (nada de loop infinito)\n",
        "* Também é válido dizer que fizemos uma análise de dados utilizando apenas dois tipos de dados: localização e distância entre lojas. Isso é claramente insuficiente para uma análise “de verdade”. Certamente que Beruri e Humaitá não são polos logisticos e temos motivos claros para isso."
      ],
      "metadata": {
        "id": "iXRT1oUIBXzk"
      }
    }
  ]
}